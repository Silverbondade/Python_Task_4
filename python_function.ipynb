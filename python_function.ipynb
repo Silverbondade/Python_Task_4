{
 "cells": [
  {
   "cell_type": "markdown",
   "id": "86a4672e-25a5-46ba-98c9-266453c1516d",
   "metadata": {},
   "source": [
    "**Arthimetic Operation Function**"
   ]
  },
  {
   "cell_type": "code",
   "execution_count": 5,
   "id": "b7b642d1-00c2-439b-baf8-b1aab26a7b50",
   "metadata": {},
   "outputs": [
    {
     "name": "stdout",
     "output_type": "stream",
     "text": [
      "x1 = 20,y1 = 50,z1 = 40\n",
      "x+y+z = 110\n"
     ]
    }
   ],
   "source": [
    "def addition(x,y,z):\n",
    "    print(f'x1 = {x},y1 = {y},z1 = {z}')\n",
    "    print(f'x+y+z = {x+y+z}')\n",
    "\n",
    "addition(20,50,40)"
   ]
  },
  {
   "cell_type": "code",
   "execution_count": 20,
   "id": "11fe2c12-a6c1-4524-9780-9fc23d91f2c3",
   "metadata": {},
   "outputs": [
    {
     "name": "stdout",
     "output_type": "stream",
     "text": [
      "p1 = 100,q1 = 50,r1 = 20\n",
      "p-q-r = 30\n"
     ]
    }
   ],
   "source": [
    "def substraction(p,q,r):\n",
    "    print(f'p1 = {p},q1 = {q},r1 = {r}')\n",
    "    print(f'p-q-r = {p-q-r}')\n",
    "substraction(100,50,20)"
   ]
  },
  {
   "cell_type": "code",
   "execution_count": 24,
   "id": "a398a957-4264-48e4-b52a-8b7c9b21238c",
   "metadata": {},
   "outputs": [
    {
     "name": "stdout",
     "output_type": "stream",
     "text": [
      "a1 = 4, b1 = 4, c1 = 2\n",
      "a*b*c = 32\n"
     ]
    }
   ],
   "source": [
    "def multiply(a,b,c):\n",
    "    print(f'a1 = {a}, b1 = {b}, c1 = {c}')\n",
    "    print(f'a*b*c = {a*b*c}')\n",
    "\n",
    "multiply(4,4,2)"
   ]
  },
  {
   "cell_type": "code",
   "execution_count": 29,
   "id": "7d0654f1-5b3b-4bca-9191-78915f350c8d",
   "metadata": {},
   "outputs": [
    {
     "name": "stdout",
     "output_type": "stream",
     "text": [
      "e1 = 100, f1 = 2, g1 = 2\n",
      "e/f/g = 25.0\n"
     ]
    }
   ],
   "source": [
    "def division(e,f,g):\n",
    "    print(f'e1 = {e}, f1 = {f}, g1 = {g}')\n",
    "    print(f'e/f/g = {e/f/g}')\n",
    "division(100,2,2)  "
   ]
  },
  {
   "cell_type": "code",
   "execution_count": 31,
   "id": "98145217-2391-43a8-8dcb-b1918d8e124e",
   "metadata": {},
   "outputs": [
    {
     "name": "stdout",
     "output_type": "stream",
     "text": [
      "e1 = 100, f1 = 2, g1 = 2\n",
      "e//f//g = 25\n"
     ]
    }
   ],
   "source": [
    "def floatdivision(e,f,g):\n",
    "    print(f'e1 = {e}, f1 = {f}, g1 = {g}')\n",
    "    print(f'e//f//g = {e//f//g}')\n",
    "floatdivision(100,2,2)  "
   ]
  },
  {
   "cell_type": "markdown",
   "id": "3e1cfbf4-45ee-4445-ba46-d7ce94c0c06d",
   "metadata": {},
   "source": [
    "**Comparision Function**"
   ]
  },
  {
   "cell_type": "code",
   "execution_count": 57,
   "id": "b19a9724-ec88-4424-b39a-98866667eab7",
   "metadata": {},
   "outputs": [
    {
     "name": "stdout",
     "output_type": "stream",
     "text": [
      "num1 > num2 =1000>500=True\n"
     ]
    }
   ],
   "source": [
    "def compare(num1 ,num2):\n",
    "    result = num1 > num2\n",
    "    print(f'num1 > num2 ={num1}>{num2}={result}')\n",
    "compare(1000,500)"
   ]
  },
  {
   "cell_type": "code",
   "execution_count": 55,
   "id": "82caeaab-7078-4e4b-b887-65913f8c8f7c",
   "metadata": {},
   "outputs": [
    {
     "name": "stdout",
     "output_type": "stream",
     "text": [
      "num1 > num2 = 50>100 = False\n"
     ]
    }
   ],
   "source": [
    "def compare(num1,num2):\n",
    "    result = num1 > num2\n",
    "    print (f'num1 > num2 = {num1}>{num2} = {result}')\n",
    "\n",
    "compare(50,100)"
   ]
  },
  {
   "cell_type": "markdown",
   "id": "ad9b7bce-dd8e-45c8-a4c5-9f8312e5986b",
   "metadata": {},
   "source": [
    "**Return Function**"
   ]
  },
  {
   "cell_type": "code",
   "execution_count": 61,
   "id": "c5b03f14-06d3-45cd-b237-8073dff48843",
   "metadata": {},
   "outputs": [
    {
     "name": "stdout",
     "output_type": "stream",
     "text": [
      "d1 / d2=50/10=5.0\n",
      "output=5.0\n"
     ]
    }
   ],
   "source": [
    "def check(d1,d2):\n",
    "    result = d1/d2\n",
    "    print(f'd1 / d2={d1}/{d2}={result}')\n",
    "    return result\n",
    "\n",
    "output=check(50,10)\n",
    "print(f'output={output}')"
   ]
  },
  {
   "cell_type": "code",
   "execution_count": 65,
   "id": "24e4d968-547a-438e-86cc-fbd4b171a312",
   "metadata": {},
   "outputs": [
    {
     "name": "stdout",
     "output_type": "stream",
     "text": [
      "v1 < v2 =50<24=True\n",
      "output=True\n"
     ]
    }
   ],
   "source": [
    "def check(v1,v2):\n",
    "    result = v1 > v2\n",
    "    print(f'v1 < v2 ={v1}<{v2}={result}')\n",
    "    return result\n",
    "output=check(50,24)\n",
    "print(f'output={output}')"
   ]
  }
 ],
 "metadata": {
  "kernelspec": {
   "display_name": "Python 3 (ipykernel)",
   "language": "python",
   "name": "python3"
  },
  "language_info": {
   "codemirror_mode": {
    "name": "ipython",
    "version": 3
   },
   "file_extension": ".py",
   "mimetype": "text/x-python",
   "name": "python",
   "nbconvert_exporter": "python",
   "pygments_lexer": "ipython3",
   "version": "3.12.4"
  }
 },
 "nbformat": 4,
 "nbformat_minor": 5
}
